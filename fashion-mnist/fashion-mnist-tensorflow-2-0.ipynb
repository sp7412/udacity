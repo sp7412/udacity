{
  "nbformat": 4,
  "nbformat_minor": 0,
  "metadata": {
    "kernelspec": {
      "display_name": "Python 3",
      "language": "python",
      "name": "python3"
    },
    "language_info": {
      "codemirror_mode": {
        "name": "ipython",
        "version": 3
      },
      "file_extension": ".py",
      "mimetype": "text/x-python",
      "name": "python",
      "nbconvert_exporter": "python",
      "pygments_lexer": "ipython3",
      "version": "3.6.6"
    },
    "colab": {
      "name": "fashion-mnist-tensorflow-2-0.ipynb",
      "provenance": [],
      "include_colab_link": true
    },
    "accelerator": "GPU"
  },
  "cells": [
    {
      "cell_type": "markdown",
      "metadata": {
        "id": "view-in-github",
        "colab_type": "text"
      },
      "source": [
        "<a href=\"https://colab.research.google.com/github/sp7412/udacity/blob/master/fashion-mnist/fashion-mnist-tensorflow-2-0.ipynb\" target=\"_parent\"><img src=\"https://colab.research.google.com/assets/colab-badge.svg\" alt=\"Open In Colab\"/></a>"
      ]
    },
    {
      "cell_type": "code",
      "metadata": {
        "_cell_guid": "b1076dfc-b9ad-4769-8c92-a6c4dae69d19",
        "_uuid": "8f2839f25d086af736a60e9eeb907d3b93b6e0e5",
        "id": "X9WNALbLnVS5",
        "colab_type": "code",
        "outputId": "b662744f-4861-43e6-9df3-66788e8c6432",
        "colab": {
          "base_uri": "https://localhost:8080/",
          "height": 35
        }
      },
      "source": [
        "import numpy as np # linear algebra\n",
        "import pandas as pd # data processing, CSV file I/O (e.g. pd.read_csv)\n",
        "import matplotlib.pyplot as plt\n",
        "from sklearn.model_selection import train_test_split\n",
        "from sklearn.metrics import accuracy_score, confusion_matrix\n",
        "from seaborn import heatmap\n",
        "import tensorflow as tf\n",
        "from tensorflow.keras.models import Sequential\n",
        "from tensorflow.keras.layers import  Conv2D, MaxPool2D, BatchNormalization, Dropout, Flatten, Dense\n",
        "from tensorflow.keras.losses import categorical_crossentropy, sparse_categorical_crossentropy\n",
        "from tensorflow.keras.optimizers import Adam\n",
        "from tensorflow.keras.callbacks import EarlyStopping, ModelCheckpoint, ReduceLROnPlateau, LearningRateScheduler\n",
        "import keras"
      ],
      "execution_count": 71,
      "outputs": [
        {
          "output_type": "stream",
          "text": [
            "Using TensorFlow backend.\n"
          ],
          "name": "stderr"
        }
      ]
    },
    {
      "cell_type": "code",
      "metadata": {
        "_cell_guid": "79c7e3d0-c299-4dcb-8224-4455121ee9b0",
        "_uuid": "d629ff2d2480ee46fbb7e2d37f6b5fab8052498a",
        "id": "WesyAIZsnVS9",
        "colab_type": "code",
        "colab": {}
      },
      "source": [
        "import zipfile\n",
        "import requests\n",
        "import io\n",
        "\n",
        "url = \"https://github.com/sp7412/udacity/blob/master/fashion-mnist/minst-fashion-dataset.zip?raw=true\"\n",
        "header = {'user-agent': 'Mozilla/5.0 (Macintosh; Intel Mac OS X 10.9; rv:32.0) Gecko/20100101 Firefox/54.0.1',}\n",
        "remotezip = requests.get(url, headers=header)\n",
        "root = zipfile.ZipFile(io.BytesIO(remotezip.content))"
      ],
      "execution_count": 0,
      "outputs": []
    },
    {
      "cell_type": "code",
      "metadata": {
        "id": "1SBYJdlmolNe",
        "colab_type": "code",
        "colab": {}
      },
      "source": [
        "df_train = pd.read_csv(root.open('fashion-mnist_train.csv')) \n",
        "df_test = pd.read_csv(root.open('fashion-mnist_test.csv')) "
      ],
      "execution_count": 0,
      "outputs": []
    },
    {
      "cell_type": "code",
      "metadata": {
        "id": "Dea77Gu8nVTA",
        "colab_type": "code",
        "outputId": "d5111cb3-803f-4c1f-8746-3433c837a153",
        "colab": {
          "base_uri": "https://localhost:8080/",
          "height": 247
        }
      },
      "source": [
        "df_test.head()"
      ],
      "execution_count": 52,
      "outputs": [
        {
          "output_type": "execute_result",
          "data": {
            "text/html": [
              "<div>\n",
              "<style scoped>\n",
              "    .dataframe tbody tr th:only-of-type {\n",
              "        vertical-align: middle;\n",
              "    }\n",
              "\n",
              "    .dataframe tbody tr th {\n",
              "        vertical-align: top;\n",
              "    }\n",
              "\n",
              "    .dataframe thead th {\n",
              "        text-align: right;\n",
              "    }\n",
              "</style>\n",
              "<table border=\"1\" class=\"dataframe\">\n",
              "  <thead>\n",
              "    <tr style=\"text-align: right;\">\n",
              "      <th></th>\n",
              "      <th>label</th>\n",
              "      <th>pixel1</th>\n",
              "      <th>pixel2</th>\n",
              "      <th>pixel3</th>\n",
              "      <th>pixel4</th>\n",
              "      <th>pixel5</th>\n",
              "      <th>pixel6</th>\n",
              "      <th>pixel7</th>\n",
              "      <th>pixel8</th>\n",
              "      <th>pixel9</th>\n",
              "      <th>pixel10</th>\n",
              "      <th>pixel11</th>\n",
              "      <th>pixel12</th>\n",
              "      <th>pixel13</th>\n",
              "      <th>pixel14</th>\n",
              "      <th>pixel15</th>\n",
              "      <th>pixel16</th>\n",
              "      <th>pixel17</th>\n",
              "      <th>pixel18</th>\n",
              "      <th>pixel19</th>\n",
              "      <th>pixel20</th>\n",
              "      <th>pixel21</th>\n",
              "      <th>pixel22</th>\n",
              "      <th>pixel23</th>\n",
              "      <th>pixel24</th>\n",
              "      <th>pixel25</th>\n",
              "      <th>pixel26</th>\n",
              "      <th>pixel27</th>\n",
              "      <th>pixel28</th>\n",
              "      <th>pixel29</th>\n",
              "      <th>pixel30</th>\n",
              "      <th>pixel31</th>\n",
              "      <th>pixel32</th>\n",
              "      <th>pixel33</th>\n",
              "      <th>pixel34</th>\n",
              "      <th>pixel35</th>\n",
              "      <th>pixel36</th>\n",
              "      <th>pixel37</th>\n",
              "      <th>pixel38</th>\n",
              "      <th>pixel39</th>\n",
              "      <th>...</th>\n",
              "      <th>pixel745</th>\n",
              "      <th>pixel746</th>\n",
              "      <th>pixel747</th>\n",
              "      <th>pixel748</th>\n",
              "      <th>pixel749</th>\n",
              "      <th>pixel750</th>\n",
              "      <th>pixel751</th>\n",
              "      <th>pixel752</th>\n",
              "      <th>pixel753</th>\n",
              "      <th>pixel754</th>\n",
              "      <th>pixel755</th>\n",
              "      <th>pixel756</th>\n",
              "      <th>pixel757</th>\n",
              "      <th>pixel758</th>\n",
              "      <th>pixel759</th>\n",
              "      <th>pixel760</th>\n",
              "      <th>pixel761</th>\n",
              "      <th>pixel762</th>\n",
              "      <th>pixel763</th>\n",
              "      <th>pixel764</th>\n",
              "      <th>pixel765</th>\n",
              "      <th>pixel766</th>\n",
              "      <th>pixel767</th>\n",
              "      <th>pixel768</th>\n",
              "      <th>pixel769</th>\n",
              "      <th>pixel770</th>\n",
              "      <th>pixel771</th>\n",
              "      <th>pixel772</th>\n",
              "      <th>pixel773</th>\n",
              "      <th>pixel774</th>\n",
              "      <th>pixel775</th>\n",
              "      <th>pixel776</th>\n",
              "      <th>pixel777</th>\n",
              "      <th>pixel778</th>\n",
              "      <th>pixel779</th>\n",
              "      <th>pixel780</th>\n",
              "      <th>pixel781</th>\n",
              "      <th>pixel782</th>\n",
              "      <th>pixel783</th>\n",
              "      <th>pixel784</th>\n",
              "    </tr>\n",
              "  </thead>\n",
              "  <tbody>\n",
              "    <tr>\n",
              "      <th>0</th>\n",
              "      <td>0</td>\n",
              "      <td>0</td>\n",
              "      <td>0</td>\n",
              "      <td>0</td>\n",
              "      <td>0</td>\n",
              "      <td>0</td>\n",
              "      <td>0</td>\n",
              "      <td>0</td>\n",
              "      <td>9</td>\n",
              "      <td>8</td>\n",
              "      <td>0</td>\n",
              "      <td>0</td>\n",
              "      <td>34</td>\n",
              "      <td>29</td>\n",
              "      <td>7</td>\n",
              "      <td>0</td>\n",
              "      <td>11</td>\n",
              "      <td>24</td>\n",
              "      <td>0</td>\n",
              "      <td>0</td>\n",
              "      <td>3</td>\n",
              "      <td>3</td>\n",
              "      <td>1</td>\n",
              "      <td>0</td>\n",
              "      <td>1</td>\n",
              "      <td>1</td>\n",
              "      <td>0</td>\n",
              "      <td>0</td>\n",
              "      <td>0</td>\n",
              "      <td>0</td>\n",
              "      <td>0</td>\n",
              "      <td>4</td>\n",
              "      <td>0</td>\n",
              "      <td>0</td>\n",
              "      <td>1</td>\n",
              "      <td>0</td>\n",
              "      <td>0</td>\n",
              "      <td>0</td>\n",
              "      <td>0</td>\n",
              "      <td>0</td>\n",
              "      <td>...</td>\n",
              "      <td>242</td>\n",
              "      <td>245</td>\n",
              "      <td>224</td>\n",
              "      <td>245</td>\n",
              "      <td>234</td>\n",
              "      <td>0</td>\n",
              "      <td>3</td>\n",
              "      <td>0</td>\n",
              "      <td>0</td>\n",
              "      <td>0</td>\n",
              "      <td>0</td>\n",
              "      <td>0</td>\n",
              "      <td>0</td>\n",
              "      <td>0</td>\n",
              "      <td>0</td>\n",
              "      <td>0</td>\n",
              "      <td>0</td>\n",
              "      <td>0</td>\n",
              "      <td>0</td>\n",
              "      <td>37</td>\n",
              "      <td>69</td>\n",
              "      <td>94</td>\n",
              "      <td>123</td>\n",
              "      <td>127</td>\n",
              "      <td>138</td>\n",
              "      <td>138</td>\n",
              "      <td>142</td>\n",
              "      <td>145</td>\n",
              "      <td>135</td>\n",
              "      <td>125</td>\n",
              "      <td>103</td>\n",
              "      <td>87</td>\n",
              "      <td>56</td>\n",
              "      <td>0</td>\n",
              "      <td>0</td>\n",
              "      <td>0</td>\n",
              "      <td>0</td>\n",
              "      <td>0</td>\n",
              "      <td>0</td>\n",
              "      <td>0</td>\n",
              "    </tr>\n",
              "    <tr>\n",
              "      <th>1</th>\n",
              "      <td>1</td>\n",
              "      <td>0</td>\n",
              "      <td>0</td>\n",
              "      <td>0</td>\n",
              "      <td>0</td>\n",
              "      <td>0</td>\n",
              "      <td>0</td>\n",
              "      <td>0</td>\n",
              "      <td>0</td>\n",
              "      <td>0</td>\n",
              "      <td>0</td>\n",
              "      <td>0</td>\n",
              "      <td>209</td>\n",
              "      <td>190</td>\n",
              "      <td>181</td>\n",
              "      <td>150</td>\n",
              "      <td>170</td>\n",
              "      <td>193</td>\n",
              "      <td>180</td>\n",
              "      <td>219</td>\n",
              "      <td>5</td>\n",
              "      <td>0</td>\n",
              "      <td>0</td>\n",
              "      <td>0</td>\n",
              "      <td>0</td>\n",
              "      <td>0</td>\n",
              "      <td>0</td>\n",
              "      <td>0</td>\n",
              "      <td>0</td>\n",
              "      <td>0</td>\n",
              "      <td>0</td>\n",
              "      <td>0</td>\n",
              "      <td>0</td>\n",
              "      <td>0</td>\n",
              "      <td>0</td>\n",
              "      <td>0</td>\n",
              "      <td>0</td>\n",
              "      <td>0</td>\n",
              "      <td>0</td>\n",
              "      <td>24</td>\n",
              "      <td>...</td>\n",
              "      <td>248</td>\n",
              "      <td>238</td>\n",
              "      <td>80</td>\n",
              "      <td>0</td>\n",
              "      <td>0</td>\n",
              "      <td>0</td>\n",
              "      <td>0</td>\n",
              "      <td>0</td>\n",
              "      <td>0</td>\n",
              "      <td>0</td>\n",
              "      <td>0</td>\n",
              "      <td>0</td>\n",
              "      <td>0</td>\n",
              "      <td>0</td>\n",
              "      <td>0</td>\n",
              "      <td>0</td>\n",
              "      <td>0</td>\n",
              "      <td>0</td>\n",
              "      <td>0</td>\n",
              "      <td>0</td>\n",
              "      <td>0</td>\n",
              "      <td>0</td>\n",
              "      <td>0</td>\n",
              "      <td>174</td>\n",
              "      <td>233</td>\n",
              "      <td>155</td>\n",
              "      <td>0</td>\n",
              "      <td>65</td>\n",
              "      <td>235</td>\n",
              "      <td>216</td>\n",
              "      <td>34</td>\n",
              "      <td>0</td>\n",
              "      <td>0</td>\n",
              "      <td>0</td>\n",
              "      <td>0</td>\n",
              "      <td>0</td>\n",
              "      <td>0</td>\n",
              "      <td>0</td>\n",
              "      <td>0</td>\n",
              "      <td>0</td>\n",
              "    </tr>\n",
              "    <tr>\n",
              "      <th>2</th>\n",
              "      <td>2</td>\n",
              "      <td>0</td>\n",
              "      <td>0</td>\n",
              "      <td>0</td>\n",
              "      <td>0</td>\n",
              "      <td>0</td>\n",
              "      <td>0</td>\n",
              "      <td>14</td>\n",
              "      <td>53</td>\n",
              "      <td>99</td>\n",
              "      <td>17</td>\n",
              "      <td>0</td>\n",
              "      <td>0</td>\n",
              "      <td>0</td>\n",
              "      <td>0</td>\n",
              "      <td>0</td>\n",
              "      <td>0</td>\n",
              "      <td>0</td>\n",
              "      <td>0</td>\n",
              "      <td>12</td>\n",
              "      <td>94</td>\n",
              "      <td>68</td>\n",
              "      <td>14</td>\n",
              "      <td>0</td>\n",
              "      <td>0</td>\n",
              "      <td>0</td>\n",
              "      <td>0</td>\n",
              "      <td>0</td>\n",
              "      <td>0</td>\n",
              "      <td>0</td>\n",
              "      <td>0</td>\n",
              "      <td>0</td>\n",
              "      <td>0</td>\n",
              "      <td>0</td>\n",
              "      <td>38</td>\n",
              "      <td>106</td>\n",
              "      <td>94</td>\n",
              "      <td>89</td>\n",
              "      <td>94</td>\n",
              "      <td>68</td>\n",
              "      <td>...</td>\n",
              "      <td>0</td>\n",
              "      <td>0</td>\n",
              "      <td>0</td>\n",
              "      <td>0</td>\n",
              "      <td>0</td>\n",
              "      <td>0</td>\n",
              "      <td>87</td>\n",
              "      <td>12</td>\n",
              "      <td>26</td>\n",
              "      <td>0</td>\n",
              "      <td>0</td>\n",
              "      <td>0</td>\n",
              "      <td>0</td>\n",
              "      <td>0</td>\n",
              "      <td>0</td>\n",
              "      <td>0</td>\n",
              "      <td>46</td>\n",
              "      <td>50</td>\n",
              "      <td>29</td>\n",
              "      <td>0</td>\n",
              "      <td>2</td>\n",
              "      <td>0</td>\n",
              "      <td>0</td>\n",
              "      <td>0</td>\n",
              "      <td>0</td>\n",
              "      <td>0</td>\n",
              "      <td>0</td>\n",
              "      <td>0</td>\n",
              "      <td>0</td>\n",
              "      <td>0</td>\n",
              "      <td>0</td>\n",
              "      <td>0</td>\n",
              "      <td>0</td>\n",
              "      <td>0</td>\n",
              "      <td>63</td>\n",
              "      <td>53</td>\n",
              "      <td>31</td>\n",
              "      <td>0</td>\n",
              "      <td>0</td>\n",
              "      <td>0</td>\n",
              "    </tr>\n",
              "    <tr>\n",
              "      <th>3</th>\n",
              "      <td>2</td>\n",
              "      <td>0</td>\n",
              "      <td>0</td>\n",
              "      <td>0</td>\n",
              "      <td>0</td>\n",
              "      <td>0</td>\n",
              "      <td>0</td>\n",
              "      <td>0</td>\n",
              "      <td>0</td>\n",
              "      <td>0</td>\n",
              "      <td>161</td>\n",
              "      <td>212</td>\n",
              "      <td>138</td>\n",
              "      <td>150</td>\n",
              "      <td>169</td>\n",
              "      <td>164</td>\n",
              "      <td>176</td>\n",
              "      <td>202</td>\n",
              "      <td>255</td>\n",
              "      <td>183</td>\n",
              "      <td>26</td>\n",
              "      <td>0</td>\n",
              "      <td>0</td>\n",
              "      <td>0</td>\n",
              "      <td>0</td>\n",
              "      <td>0</td>\n",
              "      <td>0</td>\n",
              "      <td>0</td>\n",
              "      <td>0</td>\n",
              "      <td>0</td>\n",
              "      <td>0</td>\n",
              "      <td>0</td>\n",
              "      <td>1</td>\n",
              "      <td>0</td>\n",
              "      <td>0</td>\n",
              "      <td>129</td>\n",
              "      <td>221</td>\n",
              "      <td>255</td>\n",
              "      <td>255</td>\n",
              "      <td>215</td>\n",
              "      <td>...</td>\n",
              "      <td>255</td>\n",
              "      <td>255</td>\n",
              "      <td>254</td>\n",
              "      <td>252</td>\n",
              "      <td>255</td>\n",
              "      <td>101</td>\n",
              "      <td>196</td>\n",
              "      <td>254</td>\n",
              "      <td>252</td>\n",
              "      <td>100</td>\n",
              "      <td>0</td>\n",
              "      <td>0</td>\n",
              "      <td>0</td>\n",
              "      <td>0</td>\n",
              "      <td>0</td>\n",
              "      <td>168</td>\n",
              "      <td>232</td>\n",
              "      <td>225</td>\n",
              "      <td>0</td>\n",
              "      <td>41</td>\n",
              "      <td>172</td>\n",
              "      <td>147</td>\n",
              "      <td>148</td>\n",
              "      <td>153</td>\n",
              "      <td>155</td>\n",
              "      <td>146</td>\n",
              "      <td>137</td>\n",
              "      <td>141</td>\n",
              "      <td>143</td>\n",
              "      <td>137</td>\n",
              "      <td>137</td>\n",
              "      <td>126</td>\n",
              "      <td>140</td>\n",
              "      <td>0</td>\n",
              "      <td>133</td>\n",
              "      <td>224</td>\n",
              "      <td>222</td>\n",
              "      <td>56</td>\n",
              "      <td>0</td>\n",
              "      <td>0</td>\n",
              "    </tr>\n",
              "    <tr>\n",
              "      <th>4</th>\n",
              "      <td>3</td>\n",
              "      <td>0</td>\n",
              "      <td>0</td>\n",
              "      <td>0</td>\n",
              "      <td>0</td>\n",
              "      <td>0</td>\n",
              "      <td>0</td>\n",
              "      <td>0</td>\n",
              "      <td>0</td>\n",
              "      <td>0</td>\n",
              "      <td>0</td>\n",
              "      <td>37</td>\n",
              "      <td>0</td>\n",
              "      <td>0</td>\n",
              "      <td>0</td>\n",
              "      <td>0</td>\n",
              "      <td>0</td>\n",
              "      <td>0</td>\n",
              "      <td>17</td>\n",
              "      <td>0</td>\n",
              "      <td>0</td>\n",
              "      <td>0</td>\n",
              "      <td>0</td>\n",
              "      <td>0</td>\n",
              "      <td>0</td>\n",
              "      <td>0</td>\n",
              "      <td>0</td>\n",
              "      <td>0</td>\n",
              "      <td>0</td>\n",
              "      <td>0</td>\n",
              "      <td>0</td>\n",
              "      <td>0</td>\n",
              "      <td>0</td>\n",
              "      <td>0</td>\n",
              "      <td>0</td>\n",
              "      <td>0</td>\n",
              "      <td>0</td>\n",
              "      <td>21</td>\n",
              "      <td>204</td>\n",
              "      <td>235</td>\n",
              "      <td>...</td>\n",
              "      <td>0</td>\n",
              "      <td>2</td>\n",
              "      <td>0</td>\n",
              "      <td>0</td>\n",
              "      <td>0</td>\n",
              "      <td>0</td>\n",
              "      <td>0</td>\n",
              "      <td>0</td>\n",
              "      <td>0</td>\n",
              "      <td>0</td>\n",
              "      <td>0</td>\n",
              "      <td>0</td>\n",
              "      <td>0</td>\n",
              "      <td>0</td>\n",
              "      <td>0</td>\n",
              "      <td>0</td>\n",
              "      <td>0</td>\n",
              "      <td>0</td>\n",
              "      <td>0</td>\n",
              "      <td>0</td>\n",
              "      <td>0</td>\n",
              "      <td>0</td>\n",
              "      <td>0</td>\n",
              "      <td>0</td>\n",
              "      <td>1</td>\n",
              "      <td>0</td>\n",
              "      <td>2</td>\n",
              "      <td>69</td>\n",
              "      <td>0</td>\n",
              "      <td>2</td>\n",
              "      <td>0</td>\n",
              "      <td>0</td>\n",
              "      <td>0</td>\n",
              "      <td>0</td>\n",
              "      <td>0</td>\n",
              "      <td>0</td>\n",
              "      <td>0</td>\n",
              "      <td>0</td>\n",
              "      <td>0</td>\n",
              "      <td>0</td>\n",
              "    </tr>\n",
              "  </tbody>\n",
              "</table>\n",
              "<p>5 rows × 785 columns</p>\n",
              "</div>"
            ],
            "text/plain": [
              "   label  pixel1  pixel2  pixel3  ...  pixel781  pixel782  pixel783  pixel784\n",
              "0      0       0       0       0  ...         0         0         0         0\n",
              "1      1       0       0       0  ...         0         0         0         0\n",
              "2      2       0       0       0  ...        31         0         0         0\n",
              "3      2       0       0       0  ...       222        56         0         0\n",
              "4      3       0       0       0  ...         0         0         0         0\n",
              "\n",
              "[5 rows x 785 columns]"
            ]
          },
          "metadata": {
            "tags": []
          },
          "execution_count": 52
        }
      ]
    },
    {
      "cell_type": "code",
      "metadata": {
        "id": "MhOyQSrbnVTE",
        "colab_type": "code",
        "colab": {}
      },
      "source": [
        "train_label = df_train['label']\n",
        "test_label = df_test['label']\n",
        "\n",
        "df_test = df_test.drop(columns = ['label'])\n",
        "df_train = df_train.drop(columns = ['label'])\n",
        "\n",
        "X_train, X_val, y_train, y_val = train_test_split(df_train, train_label, test_size = .3, stratify = train_label)\n",
        "\n",
        "X_train = (X_train/255).values.reshape(len(X_train), 28,28,1)\n",
        "X_val = (X_val/255).values.reshape(len(X_val), 28,28, 1)\n",
        "X_test = (df_test/255).values.reshape(len(df_test), 28,28, 1)"
      ],
      "execution_count": 0,
      "outputs": []
    },
    {
      "cell_type": "code",
      "metadata": {
        "id": "O7yngWesnVTH",
        "colab_type": "code",
        "outputId": "5e8ca864-f5e1-4201-965b-fe4a9f44bba2",
        "colab": {
          "base_uri": "https://localhost:8080/",
          "height": 72
        }
      },
      "source": [
        "print(X_train.shape)\n",
        "print(X_val.shape)\n",
        "print(X_test.shape)"
      ],
      "execution_count": 54,
      "outputs": [
        {
          "output_type": "stream",
          "text": [
            "(42000, 28, 28, 1)\n",
            "(18000, 28, 28, 1)\n",
            "(10000, 28, 28, 1)\n"
          ],
          "name": "stdout"
        }
      ]
    },
    {
      "cell_type": "code",
      "metadata": {
        "id": "14TkSYPDnVTK",
        "colab_type": "code",
        "outputId": "d36120db-a4d0-402a-dddf-ac28ae93ab7b",
        "colab": {
          "base_uri": "https://localhost:8080/",
          "height": 388
        }
      },
      "source": [
        "plt.figure(figsize = (8,6))\n",
        "train_label.value_counts().plot(kind = 'bar', color = 'green')\n",
        "test_label.value_counts().plot(kind = 'bar', color = 'red', alpha = .5)"
      ],
      "execution_count": 55,
      "outputs": [
        {
          "output_type": "execute_result",
          "data": {
            "text/plain": [
              "<matplotlib.axes._subplots.AxesSubplot at 0x7fe5904f2a90>"
            ]
          },
          "metadata": {
            "tags": []
          },
          "execution_count": 55
        },
        {
          "output_type": "display_data",
          "data": {
            "image/png": "[encoded data removed]",
            "text/plain": [
              "<Figure size 576x432 with 1 Axes>"
            ]
          },
          "metadata": {
            "tags": [],
            "needs_background": "light"
          }
        }
      ]
    },
    {
      "cell_type": "code",
      "metadata": {
        "id": "3TD_vqSSnVTN",
        "colab_type": "code",
        "outputId": "02b9d989-7c98-4fc4-994a-b7f7f323793b",
        "colab": {
          "base_uri": "https://localhost:8080/",
          "height": 237
        }
      },
      "source": [
        "#plt.imshow(df_test.iloc[0, \"\"].values.reshape((28,28)))\n",
        "#plt.imshow(df_test.iloc[1, :].values.reshape((28,28)))\n",
        "#plt.imshow(df_test.iloc[2, :].values.reshape((28,28)))\n",
        "\n",
        "f, ax = plt.subplots(1,5)\n",
        "f.set_size_inches(80, 40)\n",
        "for i in range(5):\n",
        "    ax[i].imshow(df_test.iloc[i, :].values.reshape(28, 28))\n",
        "plt.show()"
      ],
      "execution_count": 56,
      "outputs": [
        {
          "output_type": "display_data",
          "data": {
            "image/png": "[encoded data removed]",
            "text/plain": [
              "<Figure size 5760x2880 with 5 Axes>"
            ]
          },
          "metadata": {
            "tags": [],
            "needs_background": "light"
          }
        }
      ]
    },
    {
      "cell_type": "code",
      "metadata": {
        "id": "xkB_CfYLnVTT",
        "colab_type": "code",
        "colab": {}
      },
      "source": [
        "def Model():\n",
        "    \n",
        "    model = Sequential()\n",
        "\n",
        "    #CCN1\n",
        "    model.add(Conv2D(filters = 64, kernel_size = (3,3), padding = 'same',activation = 'relu', input_shape = (28,28, 1)))\n",
        "    model.add(Conv2D(filters = 64, kernel_size = (3,3), padding = 'same', activation = 'relu', input_shape = (28,28, 1)))\n",
        "    model.add(Conv2D(filters = 64, kernel_size = (3,3), padding = 'same',activation = 'relu', input_shape = (28,28, 1)))\n",
        "    model.add(MaxPool2D(pool_size = (2,2)))\n",
        "    model.add(Dropout(.3))\n",
        "\n",
        "    #CCN2\n",
        "    model.add(Conv2D(filters = 128, padding = 'same', kernel_size = (2,2), activation = 'relu'))\n",
        "    model.add(Conv2D(filters = 128, padding = 'same',kernel_size = (2,2), activation = 'relu'))\n",
        "    model.add(Conv2D(filters = 128, padding = 'same',kernel_size = (2,2), activation = 'relu'))\n",
        "    model.add(MaxPool2D(pool_size = (2,2)))\n",
        "    model.add(Dropout(.25))\n",
        "\n",
        "    #CCN3\n",
        "    model.add(Conv2D(filters = 256, padding = 'same',kernel_size = (2,2), activation = 'relu'))\n",
        "    model.add(Conv2D(filters = 256, padding = 'same',kernel_size = (2,2), activation = 'relu'))\n",
        "    model.add(Conv2D(filters = 256, padding = 'same', kernel_size = (2,2), activation = 'relu'))\n",
        "    \n",
        "    model.add(MaxPool2D(pool_size = (2,2)))\n",
        "    model.add(Dropout(.25))\n",
        "    \n",
        "      #CCN3\n",
        "    #model.add(Conv2D(filters = 512, kernel_size = (2,2), activation = 'relu'))\n",
        "    #model.add(MaxPool2D(pool_size = (2,2)))\n",
        "    #model.add(Dropout(.25))\n",
        "\n",
        "\n",
        "    #Flatten\n",
        "    model.add(Flatten())\n",
        "\n",
        "    # Dense1\n",
        "    model.add(Dense(1024,  activation = 'relu'))\n",
        "    model.add(Dense(1024,  activation = 'relu'))\n",
        "    model.add(Dropout(.2))\n",
        "\n",
        "    # Dense2\n",
        "    model.add(Dense(512,  activation = 'relu'))\n",
        "    model.add(Dense(512,  activation = 'relu'))\n",
        "    model.add(Dropout(.3))\n",
        "\n",
        "    # Dense3\n",
        "    model.add(Dense(128,  activation = 'relu'))\n",
        "    model.add(Dropout(.3))\n",
        "\n",
        "    # Dense4\n",
        "    model.add(Dense(64,  activation = 'relu'))\n",
        "    model.add(Dropout(.3))\n",
        "\n",
        "    # Outpot\n",
        "    model.add(Dense(10,  activation = 'softmax'))\n",
        "    model.compile(optimizer = Adam(lr = .001), loss = sparse_categorical_crossentropy, metrics = ['accuracy'])\n",
        "    \n",
        "    return model\n",
        "\n",
        "def Model1():\n",
        "    from tensorflow.keras import models\n",
        "    from tensorflow.keras import layers\n",
        "    RESCALE_HEIGHT = 256\n",
        "    RESCALE_WIDTH = 256\n",
        "    # Build the model\n",
        "    model = models.Sequential()\n",
        "    # From O'Shea, Roy, Erpek \"Spectral Detection and Localization of Radio Events with Learned\n",
        "    # Convolutional Neural Features\". EUSIPCO 2017\n",
        "    # Layer 1 \n",
        "    model.add(layers.Conv2D(64,(3,3),activation='relu',input_shape=(RESCALE_HEIGHT,RESCALE_WIDTH,1)))\n",
        "    # The paper specifies Dropout(0.5) for each convolutional layer -- but is this really \n",
        "    # a good thing to do?\n",
        "    #model.add(layers.Dropout(0.5))\n",
        "    model.add(layers.MaxPooling2D((2,2)))\n",
        "    # Layer 2\n",
        "    model.add(layers.Conv2D(64,(3,3),activation='relu'))\n",
        "    #model.add(layers.Dropout(0.5))\n",
        "    model.add(layers.MaxPooling2D((2,2)))\n",
        "    # Layer 3 \n",
        "    model.add(layers.Conv2D(64,(3,3),activation='relu'))\n",
        "    #model.add(layers.Dropout(0.5))\n",
        "    model.add(layers.MaxPooling2D((2,2)))\n",
        "    # Layer 4 \n",
        "    model.add(layers.Conv2D(64,(3,3),activation='relu'))\n",
        "    #model.add(layers.Dropout(0.5))\n",
        "    model.add(layers.MaxPooling2D((2,2)))\n",
        "\n",
        "    model.add(layers.Conv2D(128,(3,3),activation='relu'))\n",
        "    #model.add(layers.Dropout(0.5))\n",
        "    model.add(layers.MaxPooling2D((2,2)))\n",
        "\n",
        "    model.add(layers.Conv2D(128,(3,3),activation='relu'))\n",
        "    #model.add(layers.Dropout(0.5))\n",
        "    model.add(layers.MaxPooling2D((2,2)))\n",
        "\n",
        "    # Layer 5 \n",
        "    model.add(layers.Flatten())\n",
        "    model.add(layers.Dense(128,activation='relu'))\n",
        "    # Layer 6\n",
        "    # Size should be equal to the number of classes\n",
        "    model.add(layers.Dense(10,activation='softmax',name='scores'))\n",
        "\n",
        "    # Compile the model\n",
        "    # Paper specifies ADAM optimizer and  Categorical Cross-Entropy loss function\n",
        "    model.compile(optimizer='adam', loss='categorical_crossentropy',metrics=['accuracy'])\n",
        "    return model\n"
      ],
      "execution_count": 0,
      "outputs": []
    },
    {
      "cell_type": "code",
      "metadata": {
        "id": "dxPgOZcBnVTW",
        "colab_type": "code",
        "outputId": "730e84d7-74c2-45d7-8f69-6b316c4a7403",
        "colab": {
          "base_uri": "https://localhost:8080/",
          "height": 1000
        }
      },
      "source": [
        "model = Model()\n",
        "model.summary()"
      ],
      "execution_count": 58,
      "outputs": [
        {
          "output_type": "stream",
          "text": [
            "Model: \"sequential_9\"\n",
            "_________________________________________________________________\n",
            "Layer (type)                 Output Shape              Param #   \n",
            "=================================================================\n",
            "conv2d_40 (Conv2D)           (None, 28, 28, 64)        640       \n",
            "_________________________________________________________________\n",
            "conv2d_41 (Conv2D)           (None, 28, 28, 64)        36928     \n",
            "_________________________________________________________________\n",
            "conv2d_42 (Conv2D)           (None, 28, 28, 64)        36928     \n",
            "_________________________________________________________________\n",
            "max_pooling2d_26 (MaxPooling (None, 14, 14, 64)        0         \n",
            "_________________________________________________________________\n",
            "dropout_14 (Dropout)         (None, 14, 14, 64)        0         \n",
            "_________________________________________________________________\n",
            "conv2d_43 (Conv2D)           (None, 14, 14, 128)       32896     \n",
            "_________________________________________________________________\n",
            "conv2d_44 (Conv2D)           (None, 14, 14, 128)       65664     \n",
            "_________________________________________________________________\n",
            "conv2d_45 (Conv2D)           (None, 14, 14, 128)       65664     \n",
            "_________________________________________________________________\n",
            "max_pooling2d_27 (MaxPooling (None, 7, 7, 128)         0         \n",
            "_________________________________________________________________\n",
            "dropout_15 (Dropout)         (None, 7, 7, 128)         0         \n",
            "_________________________________________________________________\n",
            "conv2d_46 (Conv2D)           (None, 7, 7, 256)         131328    \n",
            "_________________________________________________________________\n",
            "conv2d_47 (Conv2D)           (None, 7, 7, 256)         262400    \n",
            "_________________________________________________________________\n",
            "conv2d_48 (Conv2D)           (None, 7, 7, 256)         262400    \n",
            "_________________________________________________________________\n",
            "max_pooling2d_28 (MaxPooling (None, 3, 3, 256)         0         \n",
            "_________________________________________________________________\n",
            "dropout_16 (Dropout)         (None, 3, 3, 256)         0         \n",
            "_________________________________________________________________\n",
            "flatten_4 (Flatten)          (None, 2304)              0         \n",
            "_________________________________________________________________\n",
            "dense_18 (Dense)             (None, 1024)              2360320   \n",
            "_________________________________________________________________\n",
            "dense_19 (Dense)             (None, 1024)              1049600   \n",
            "_________________________________________________________________\n",
            "dropout_17 (Dropout)         (None, 1024)              0         \n",
            "_________________________________________________________________\n",
            "dense_20 (Dense)             (None, 512)               524800    \n",
            "_________________________________________________________________\n",
            "dense_21 (Dense)             (None, 512)               262656    \n",
            "_________________________________________________________________\n",
            "dropout_18 (Dropout)         (None, 512)               0         \n",
            "_________________________________________________________________\n",
            "dense_22 (Dense)             (None, 128)               65664     \n",
            "_________________________________________________________________\n",
            "dropout_19 (Dropout)         (None, 128)               0         \n",
            "_________________________________________________________________\n",
            "dense_23 (Dense)             (None, 64)                8256      \n",
            "_________________________________________________________________\n",
            "dropout_20 (Dropout)         (None, 64)                0         \n",
            "_________________________________________________________________\n",
            "dense_24 (Dense)             (None, 10)                650       \n",
            "=================================================================\n",
            "Total params: 5,166,794\n",
            "Trainable params: 5,166,794\n",
            "Non-trainable params: 0\n",
            "_________________________________________________________________\n"
          ],
          "name": "stdout"
        }
      ]
    },
    {
      "cell_type": "code",
      "metadata": {
        "id": "0Nc40RDdnVTY",
        "colab_type": "code",
        "outputId": "62271f6a-9bd1-4a6e-ef1e-4954bab04c03",
        "colab": {
          "base_uri": "https://localhost:8080/",
          "height": 54
        }
      },
      "source": [
        "class LossHistory(keras.callbacks.Callback):\n",
        "    def on_train_begin(self, logs={}):\n",
        "        self.losses = []\n",
        "        self.val_losses = []\n",
        "\n",
        "    def on_batch_end(self, batch, logs={}):\n",
        "        self.losses.append(logs.get('loss'))\n",
        "        self.val_losses.append(logs.get('val_loss'))\n",
        "ACCURACY_THRESHOLD = 0.1\n",
        "class myCallback(tf.keras.callbacks.Callback): \n",
        "    def on_epoch_end(self, epoch, logs={}): \n",
        "\n",
        "        #if(logs.get('acc') > ACCURACY_THRESHOLD):   \n",
        "        #   print(\"\\nReached %2.2f%% accuracy, so stopping training!!\" %(ACCURACY_THRESHOLD*100))   \n",
        "        #   self.model.stop_training = True\n",
        "        print_str = 'epoch = {}, '.format(epoch)\n",
        "        for key in logs:\n",
        "          print_str += ' {} = {:1.4f},'.format(key,logs[key])\n",
        "        print_str += '\\n'\n",
        "        #print(print_str)\n",
        "\n",
        "        #print('The average loss for epoch {} is {:7.2f} '.format(epoch, logs['loss']))\n",
        "        print('The average loss for epoch {} is {:7.4f} .'.format(epoch, logs['loss']))\n",
        "cback = myCallback()\n",
        "\n",
        "\n",
        "batch_size = 32\n",
        "\n",
        "early_stopping = EarlyStopping(monitor = 'val_loss', patience = 10, mode = 'min', verbose = 1)\n",
        "model_save =  ModelCheckpoint('model_weights.hdf5' , monitor = 'val_loss', save_best_only = True, mode = 'min', verbose=1)\n",
        "reduce_lr =  ReduceLROnPlateau(monitor='val_loss', factor=0.1, patience=5, min_lr=0.00001)\n",
        "lr_schedule = LearningRateScheduler(lambda x: 1. / (1. + x), verbose=1)\n",
        "#lr_schedule = LearningRateScheduler(step_decay)\n",
        "val_loss_history = LossHistory()\n",
        "#history = model.fit(X_train, y_train, callbacks=[early_stopping, model_save, reduce_lr, lr_schedule], \n",
        "#          batch_size =batch_size, epochs = 5, validation_data = (X_val, y_val), verbose = 1  )\n",
        "history = model.fit(X_train, y_train, callbacks=[cback], \n",
        "          batch_size =batch_size, epochs = 1, validation_data = (X_val, y_val), verbose = 1  )"
      ],
      "execution_count": 93,
      "outputs": [
        {
          "output_type": "stream",
          "text": [
            "1310/1313 [============================>.] - ETA: 0s - loss: 2.4126 - accuracy: 0.0996The average loss for epoch 0 is  2.4126 .\n",
            "1313/1313 [==============================] - 15s 11ms/step - loss: 2.4126 - accuracy: 0.0996 - val_loss: 2.4056 - val_accuracy: 0.1000\n"
          ],
          "name": "stdout"
        }
      ]
    },
    {
      "cell_type": "code",
      "metadata": {
        "id": "ovZ8nVtv4JE1",
        "colab_type": "code",
        "colab": {
          "base_uri": "https://localhost:8080/",
          "height": 35
        },
        "outputId": "2712ec3b-dac2-4084-890a-a0e2ce947ddd"
      },
      "source": [
        "import keras.backend as K\n",
        "print(K.eval(model.optimizer.lr))"
      ],
      "execution_count": 106,
      "outputs": [
        {
          "output_type": "stream",
          "text": [
            "0.001\n"
          ],
          "name": "stdout"
        }
      ]
    },
    {
      "cell_type": "code",
      "metadata": {
        "id": "k737O9H4nVTb",
        "colab_type": "code",
        "outputId": "d16df363-42a8-4ee6-930f-149a98fde3aa",
        "colab": {
          "base_uri": "https://localhost:8080/",
          "height": 404
        }
      },
      "source": [
        "plt.figure(figsize = (8,6))\n",
        "plt.plot(history.history['loss'])\n",
        "plt.plot(history.history['val_loss'])\n",
        "plt.title(\"Model Loss\")\n",
        "plt.xlabel('Epochs')\n",
        "plt.ylabel('Loss')\n",
        "plt.legend(['Train', 'Test'])\n",
        "plt.show()"
      ],
      "execution_count": 60,
      "outputs": [
        {
          "output_type": "display_data",
          "data": {
            "image/png": "[encoded data removed]",
            "text/plain": [
              "<Figure size 576x432 with 1 Axes>"
            ]
          },
          "metadata": {
            "tags": [],
            "needs_background": "light"
          }
        }
      ]
    },
    {
      "cell_type": "code",
      "metadata": {
        "id": "AJypO7JznVTd",
        "colab_type": "code",
        "outputId": "5bf821af-e222-4f05-e1e9-37b1b73599c7",
        "colab": {
          "base_uri": "https://localhost:8080/",
          "height": 54
        }
      },
      "source": [
        "score_train = model.evaluate(X_train, y_train)\n",
        "score_val = model.evaluate(X_val, y_val)"
      ],
      "execution_count": 61,
      "outputs": [
        {
          "output_type": "stream",
          "text": [
            "1313/1313 [==============================] - 5s 4ms/step - loss: 2.3026 - accuracy: 0.1000\n",
            "563/563 [==============================] - 2s 4ms/step - loss: 2.3026 - accuracy: 0.1000\n"
          ],
          "name": "stdout"
        }
      ]
    },
    {
      "cell_type": "code",
      "metadata": {
        "id": "p2LfcadrnVTh",
        "colab_type": "code",
        "outputId": "f37fda85-0ecd-447c-8baa-c475df1bd606",
        "colab": {
          "base_uri": "https://localhost:8080/",
          "height": 54
        }
      },
      "source": [
        "print(\"Loss Train : {}  and  Accuracy Train : {}\".format(score_train[0], score_train[1]))\n",
        "print(\"Loss validate : {}  and  Accuracy Validate : {}\".format(score_val[0], score_val[1]))"
      ],
      "execution_count": 62,
      "outputs": [
        {
          "output_type": "stream",
          "text": [
            "Loss Train : 2.3026187419891357  and  Accuracy Train : 0.10000000149011612\n",
            "Loss validate : 2.3026185035705566  and  Accuracy Validate : 0.10000000149011612\n"
          ],
          "name": "stdout"
        }
      ]
    },
    {
      "cell_type": "code",
      "metadata": {
        "id": "33S8W_3DnVTj",
        "colab_type": "code",
        "colab": {}
      },
      "source": [
        "y_predict = model.predict_classes(X_test)"
      ],
      "execution_count": 0,
      "outputs": []
    },
    {
      "cell_type": "code",
      "metadata": {
        "id": "PzMhlkIjnVTm",
        "colab_type": "code",
        "outputId": "ed2a6aae-aa24-4780-aeb1-0c7019f54733",
        "colab": {
          "base_uri": "https://localhost:8080/",
          "height": 35
        }
      },
      "source": [
        "y_predict"
      ],
      "execution_count": 64,
      "outputs": [
        {
          "output_type": "execute_result",
          "data": {
            "text/plain": [
              "array([0, 0, 0, ..., 0, 0, 0])"
            ]
          },
          "metadata": {
            "tags": []
          },
          "execution_count": 64
        }
      ]
    },
    {
      "cell_type": "code",
      "metadata": {
        "id": "IncUa1zbnVTq",
        "colab_type": "code",
        "outputId": "e925172b-33c7-4406-d04f-8abf4709fa9f",
        "colab": {
          "base_uri": "https://localhost:8080/",
          "height": 199
        }
      },
      "source": [
        "CM = confusion_matrix(y_predict, test_label)\n",
        "print(CM)"
      ],
      "execution_count": 65,
      "outputs": [
        {
          "output_type": "stream",
          "text": [
            "[[1000 1000 1000 1000 1000 1000 1000 1000 1000 1000]\n",
            " [   0    0    0    0    0    0    0    0    0    0]\n",
            " [   0    0    0    0    0    0    0    0    0    0]\n",
            " [   0    0    0    0    0    0    0    0    0    0]\n",
            " [   0    0    0    0    0    0    0    0    0    0]\n",
            " [   0    0    0    0    0    0    0    0    0    0]\n",
            " [   0    0    0    0    0    0    0    0    0    0]\n",
            " [   0    0    0    0    0    0    0    0    0    0]\n",
            " [   0    0    0    0    0    0    0    0    0    0]\n",
            " [   0    0    0    0    0    0    0    0    0    0]]\n"
          ],
          "name": "stdout"
        }
      ]
    },
    {
      "cell_type": "code",
      "metadata": {
        "id": "VDKh0CWZnVTs",
        "colab_type": "code",
        "outputId": "77e7af07-57bd-4230-b877-ffe3f4a2c7a0",
        "colab": {
          "base_uri": "https://localhost:8080/",
          "height": 505
        }
      },
      "source": [
        "plt.figure(figsize = (12,8))\n",
        "heatmap(CM, annot = True, cmap=plt.cm.Blues, fmt=\"d\", linecolor ='black',  linewidths=1)"
      ],
      "execution_count": 66,
      "outputs": [
        {
          "output_type": "execute_result",
          "data": {
            "text/plain": [
              "<matplotlib.axes._subplots.AxesSubplot at 0x7fe5912d8400>"
            ]
          },
          "metadata": {
            "tags": []
          },
          "execution_count": 66
        },
        {
          "output_type": "display_data",
          "data": {
            "image/png": "[encoded data removed]",
            "text/plain": [
              "<Figure size 864x576 with 2 Axes>"
            ]
          },
          "metadata": {
            "tags": [],
            "needs_background": "light"
          }
        }
      ]
    },
    {
      "cell_type": "code",
      "metadata": {
        "id": "1xWeXM_ZnVTv",
        "colab_type": "code",
        "outputId": "43fb78d8-9af9-48b6-a6a1-a0137cb1c653",
        "colab": {
          "base_uri": "https://localhost:8080/",
          "height": 54
        }
      },
      "source": [
        "print(\"Prediction Accuracy:\" )\n",
        "print(accuracy_score(y_predict, test_label))"
      ],
      "execution_count": 67,
      "outputs": [
        {
          "output_type": "stream",
          "text": [
            "Prediction Accuracy:\n",
            "0.1\n"
          ],
          "name": "stdout"
        }
      ]
    },
    {
      "cell_type": "code",
      "metadata": {
        "id": "GLsK6_iQBOsl",
        "colab_type": "code",
        "colab": {
          "base_uri": "https://localhost:8080/",
          "height": 35
        },
        "outputId": "0314143b-0368-4412-f562-4f9e7aed0c83"
      },
      "source": [
        ""
      ],
      "execution_count": 98,
      "outputs": [
        {
          "output_type": "stream",
          "text": [
            "(10000, 28, 28)\n"
          ],
          "name": "stdout"
        }
      ]
    },
    {
      "cell_type": "code",
      "metadata": {
        "id": "FVEP7w7znVTy",
        "colab_type": "code",
        "colab": {
          "base_uri": "https://localhost:8080/",
          "height": 417
        },
        "outputId": "19987b12-4943-4926-c65e-489ebfd04640"
      },
      "source": [
        "fashion_mnist = keras.datasets.fashion_mnist\n",
        "\n",
        "(train_images, train_labels), (test_images, test_labels) = fashion_mnist.load_data()\n",
        "\n",
        "\n",
        "\n",
        "\n",
        "class_names = ['T-shirt/top', 'Trouser', 'Pullover', 'Dress', 'Coat',\n",
        "               'Sandal', 'Shirt', 'Sneaker', 'Bag', 'Ankle boot']\n",
        "\n",
        "train_images = train_images / 255.0\n",
        "\n",
        "test_images = test_images / 255.0\n",
        "\n",
        "model = keras.Sequential([\n",
        "    keras.layers.Flatten(input_shape=(28, 28)),\n",
        "    keras.layers.Dense(128, activation='relu'),\n",
        "    keras.layers.Dense(10)\n",
        "])\n",
        "\n",
        "model.compile(optimizer='adam',\n",
        "              loss=tf.keras.losses.SparseCategoricalCrossentropy(from_logits=True),\n",
        "              metrics=['accuracy'])\n",
        "\n",
        "model.fit(train_images, train_labels, epochs=10)\n",
        "\n",
        "test_loss, test_acc = model.evaluate(test_images,  test_labels, verbose=2)\n",
        "\n",
        "print('\\nTest accuracy:', test_acc)"
      ],
      "execution_count": 95,
      "outputs": [
        {
          "output_type": "stream",
          "text": [
            "Epoch 1/10\n",
            "60000/60000 [==============================] - 4s 75us/step - loss: 0.4978 - accuracy: 0.1043\n",
            "Epoch 2/10\n",
            "60000/60000 [==============================] - 5s 75us/step - loss: 0.3733 - accuracy: 0.1032\n",
            "Epoch 3/10\n",
            "60000/60000 [==============================] - 4s 73us/step - loss: 0.3364 - accuracy: 0.1032\n",
            "Epoch 4/10\n",
            "60000/60000 [==============================] - 4s 74us/step - loss: 0.3116 - accuracy: 0.1032\n",
            "Epoch 5/10\n",
            "60000/60000 [==============================] - 4s 73us/step - loss: 0.2970 - accuracy: 0.1019\n",
            "Epoch 6/10\n",
            "60000/60000 [==============================] - 4s 73us/step - loss: 0.2802 - accuracy: 0.1026\n",
            "Epoch 7/10\n",
            "60000/60000 [==============================] - 4s 74us/step - loss: 0.2694 - accuracy: 0.1023\n",
            "Epoch 8/10\n",
            "60000/60000 [==============================] - 4s 72us/step - loss: 0.2556 - accuracy: 0.1019\n",
            "Epoch 9/10\n",
            "60000/60000 [==============================] - 4s 73us/step - loss: 0.2468 - accuracy: 0.1027\n",
            "Epoch 10/10\n",
            "60000/60000 [==============================] - 4s 74us/step - loss: 0.2396 - accuracy: 0.1016\n",
            "\n",
            "Test accuracy: 0.09719999879598618\n"
          ],
          "name": "stdout"
        }
      ]
    }
  ]
}